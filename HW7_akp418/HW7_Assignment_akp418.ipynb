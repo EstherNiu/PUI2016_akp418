{
 "cells": [
  {
   "cell_type": "markdown",
   "metadata": {},
   "source": [
    "# HW7- Plotting Excercise:\n",
    "\n",
    "I am trying to make a simple bar plot of the No: of Citibikes found in 5 Off-Street Parking Locations.\n",
    "\n",
    "In Order to avoid the cluttering of Long Location Name, I renamed them as L-1, L2 etc."
   ]
  },
  {
   "cell_type": "code",
   "execution_count": 1,
   "metadata": {
    "collapsed": false
   },
   "outputs": [
    {
     "name": "stdout",
     "output_type": "stream",
     "text": [
      "Populating the interactive namespace from numpy and matplotlib\n"
     ]
    }
   ],
   "source": [
    "#importing all packages required\n",
    "\n",
    "import pandas as pd\n",
    "import numpy as np\n",
    "import matplotlib.pyplot as plt\n",
    "import plotly.plotly as py\n",
    "import os\n",
    "import zipfile\n",
    "import requests\n",
    "import StringIO\n",
    "\n",
    "%pylab inline\n"
   ]
  },
  {
   "cell_type": "code",
   "execution_count": 2,
   "metadata": {
    "collapsed": false
   },
   "outputs": [
    {
     "data": {
      "text/html": [
       "<div>\n",
       "<table border=\"1\" class=\"dataframe\">\n",
       "  <thead>\n",
       "    <tr style=\"text-align: right;\">\n",
       "      <th></th>\n",
       "      <th>SeasonYear</th>\n",
       "      <th>ShiftType</th>\n",
       "      <th>Date</th>\n",
       "      <th>DayofWeek</th>\n",
       "      <th>LocationName</th>\n",
       "      <th>GreenwayDirection</th>\n",
       "      <th>LocationType</th>\n",
       "      <th>ShiftNotes</th>\n",
       "      <th>ShiftName</th>\n",
       "      <th>15MinuteTime</th>\n",
       "      <th>Cyc_MaleWithoutHelmet</th>\n",
       "      <th>Cyc_MaleWithHelmet</th>\n",
       "      <th>Cyc_FemaleWithoutHelmet</th>\n",
       "      <th>Cyc_FemaleWithHelmet</th>\n",
       "      <th>Cyc_Male_Esplanade</th>\n",
       "      <th>Cyc_Female_Esplanade</th>\n",
       "      <th>Bladers_Scoot_Skatebd</th>\n",
       "      <th>Joggers</th>\n",
       "      <th>Walkers</th>\n",
       "      <th>TotalCitibikes</th>\n",
       "    </tr>\n",
       "  </thead>\n",
       "  <tbody>\n",
       "    <tr>\n",
       "      <th>0</th>\n",
       "      <td>Fall 2014</td>\n",
       "      <td>Weekend</td>\n",
       "      <td>2014-09-20</td>\n",
       "      <td>Saturday</td>\n",
       "      <td>East River Esplanade at E Houston St.</td>\n",
       "      <td>NB</td>\n",
       "      <td>Greenway</td>\n",
       "      <td>NaN</td>\n",
       "      <td>11AM-2PM, Saturday</td>\n",
       "      <td>11:00 -11:15</td>\n",
       "      <td>NaN</td>\n",
       "      <td>NaN</td>\n",
       "      <td>NaN</td>\n",
       "      <td>NaN</td>\n",
       "      <td>10.0</td>\n",
       "      <td>1.0</td>\n",
       "      <td>0</td>\n",
       "      <td>68</td>\n",
       "      <td>16</td>\n",
       "      <td>2.0</td>\n",
       "    </tr>\n",
       "    <tr>\n",
       "      <th>1</th>\n",
       "      <td>Fall 2014</td>\n",
       "      <td>Weekend</td>\n",
       "      <td>2014-09-20</td>\n",
       "      <td>Saturday</td>\n",
       "      <td>East River Esplanade at E Houston St.</td>\n",
       "      <td>SB</td>\n",
       "      <td>Greenway</td>\n",
       "      <td>NaN</td>\n",
       "      <td>11AM-2PM, Saturday</td>\n",
       "      <td>11:00 -11:15</td>\n",
       "      <td>NaN</td>\n",
       "      <td>NaN</td>\n",
       "      <td>NaN</td>\n",
       "      <td>NaN</td>\n",
       "      <td>9.0</td>\n",
       "      <td>4.0</td>\n",
       "      <td>0</td>\n",
       "      <td>66</td>\n",
       "      <td>21</td>\n",
       "      <td>7.0</td>\n",
       "    </tr>\n",
       "    <tr>\n",
       "      <th>2</th>\n",
       "      <td>Fall 2014</td>\n",
       "      <td>Weekend</td>\n",
       "      <td>2014-09-20</td>\n",
       "      <td>Saturday</td>\n",
       "      <td>East River Esplanade at E Houston St.</td>\n",
       "      <td>SB</td>\n",
       "      <td>Greenway</td>\n",
       "      <td>NaN</td>\n",
       "      <td>11AM-2PM, Saturday</td>\n",
       "      <td>11:15 - 11:30</td>\n",
       "      <td>NaN</td>\n",
       "      <td>NaN</td>\n",
       "      <td>NaN</td>\n",
       "      <td>NaN</td>\n",
       "      <td>3.0</td>\n",
       "      <td>3.0</td>\n",
       "      <td>0</td>\n",
       "      <td>83</td>\n",
       "      <td>22</td>\n",
       "      <td>3.0</td>\n",
       "    </tr>\n",
       "    <tr>\n",
       "      <th>3</th>\n",
       "      <td>Fall 2014</td>\n",
       "      <td>Weekend</td>\n",
       "      <td>2014-09-20</td>\n",
       "      <td>Saturday</td>\n",
       "      <td>East River Esplanade at E Houston St.</td>\n",
       "      <td>NB</td>\n",
       "      <td>Greenway</td>\n",
       "      <td>NaN</td>\n",
       "      <td>11AM-2PM, Saturday</td>\n",
       "      <td>11:15 - 11:30</td>\n",
       "      <td>NaN</td>\n",
       "      <td>NaN</td>\n",
       "      <td>NaN</td>\n",
       "      <td>NaN</td>\n",
       "      <td>7.0</td>\n",
       "      <td>5.0</td>\n",
       "      <td>0</td>\n",
       "      <td>82</td>\n",
       "      <td>15</td>\n",
       "      <td>3.0</td>\n",
       "    </tr>\n",
       "    <tr>\n",
       "      <th>4</th>\n",
       "      <td>Fall 2014</td>\n",
       "      <td>Weekend</td>\n",
       "      <td>2014-09-20</td>\n",
       "      <td>Saturday</td>\n",
       "      <td>East River Esplanade at E Houston St.</td>\n",
       "      <td>NB</td>\n",
       "      <td>Greenway</td>\n",
       "      <td>NaN</td>\n",
       "      <td>11AM-2PM, Saturday</td>\n",
       "      <td>11:30 - 11:45</td>\n",
       "      <td>NaN</td>\n",
       "      <td>NaN</td>\n",
       "      <td>NaN</td>\n",
       "      <td>NaN</td>\n",
       "      <td>6.0</td>\n",
       "      <td>1.0</td>\n",
       "      <td>0</td>\n",
       "      <td>68</td>\n",
       "      <td>27</td>\n",
       "      <td>2.0</td>\n",
       "    </tr>\n",
       "  </tbody>\n",
       "</table>\n",
       "</div>"
      ],
      "text/plain": [
       "  SeasonYear ShiftType       Date DayofWeek  \\\n",
       "0  Fall 2014   Weekend 2014-09-20  Saturday   \n",
       "1  Fall 2014   Weekend 2014-09-20  Saturday   \n",
       "2  Fall 2014   Weekend 2014-09-20  Saturday   \n",
       "3  Fall 2014   Weekend 2014-09-20  Saturday   \n",
       "4  Fall 2014   Weekend 2014-09-20  Saturday   \n",
       "\n",
       "                            LocationName GreenwayDirection LocationType  \\\n",
       "0  East River Esplanade at E Houston St.                NB     Greenway   \n",
       "1  East River Esplanade at E Houston St.                SB     Greenway   \n",
       "2  East River Esplanade at E Houston St.                SB     Greenway   \n",
       "3  East River Esplanade at E Houston St.                NB     Greenway   \n",
       "4  East River Esplanade at E Houston St.                NB     Greenway   \n",
       "\n",
       "  ShiftNotes           ShiftName   15MinuteTime  Cyc_MaleWithoutHelmet  \\\n",
       "0        NaN  11AM-2PM, Saturday   11:00 -11:15                    NaN   \n",
       "1        NaN  11AM-2PM, Saturday   11:00 -11:15                    NaN   \n",
       "2        NaN  11AM-2PM, Saturday  11:15 - 11:30                    NaN   \n",
       "3        NaN  11AM-2PM, Saturday  11:15 - 11:30                    NaN   \n",
       "4        NaN  11AM-2PM, Saturday  11:30 - 11:45                    NaN   \n",
       "\n",
       "   Cyc_MaleWithHelmet  Cyc_FemaleWithoutHelmet  Cyc_FemaleWithHelmet  \\\n",
       "0                 NaN                      NaN                   NaN   \n",
       "1                 NaN                      NaN                   NaN   \n",
       "2                 NaN                      NaN                   NaN   \n",
       "3                 NaN                      NaN                   NaN   \n",
       "4                 NaN                      NaN                   NaN   \n",
       "\n",
       "   Cyc_Male_Esplanade  Cyc_Female_Esplanade  Bladers_Scoot_Skatebd  Joggers  \\\n",
       "0                10.0                   1.0                      0       68   \n",
       "1                 9.0                   4.0                      0       66   \n",
       "2                 3.0                   3.0                      0       83   \n",
       "3                 7.0                   5.0                      0       82   \n",
       "4                 6.0                   1.0                      0       68   \n",
       "\n",
       "   Walkers  TotalCitibikes  \n",
       "0       16             2.0  \n",
       "1       21             7.0  \n",
       "2       22             3.0  \n",
       "3       15             3.0  \n",
       "4       27             2.0  "
      ]
     },
     "execution_count": 2,
     "metadata": {},
     "output_type": "execute_result"
    }
   ],
   "source": [
    "#Downloading Data\n",
    "\n",
    "a = requests.get(\"https://data.cityofnewyork.us/download/sf3b-xntp/application%2Fzip\") \n",
    "b = zipfile.ZipFile(StringIO.StringIO(a.content))\n",
    "c = b.extractall(os.getenv(\"PUIDATA\"))\n",
    "\n",
    "bike_park = pd.read_excel(os.getenv(\"PUIDATA\") + \"/\" + \"TIMS_DCPBikeCounts_Off_Street_2014.xlsx\")\n",
    "bike_park.head()"
   ]
  },
  {
   "cell_type": "markdown",
   "metadata": {},
   "source": [
    "Just trying to bar plot the number of Citibikes found in the 5 Off-street locations between the dates "
   ]
  },
  {
   "cell_type": "code",
   "execution_count": 3,
   "metadata": {
    "collapsed": false
   },
   "outputs": [
    {
     "data": {
      "text/plain": [
       "array([u'East River Esplanade at E Houston St.',\n",
       "       u'East River Greenway at E Houston St.',\n",
       "       u'East River Greenway at E90th St.',\n",
       "       u'Route 9A Esplanade at 11th St.', u'Route 9A Greenway at 11th St.',\n",
       "       u'Route 9A Greenway at 125th St.', u'Route 9A Greenway at 80th St.'], dtype=object)"
      ]
     },
     "execution_count": 3,
     "metadata": {},
     "output_type": "execute_result"
    }
   ],
   "source": [
    "bike_park['LocationName'].unique()"
   ]
  },
  {
   "cell_type": "code",
   "execution_count": 4,
   "metadata": {
    "collapsed": false,
    "scrolled": true
   },
   "outputs": [
    {
     "data": {
      "text/plain": [
       "array(['2014-09-20T00:00:00.000000000', '2014-09-18T00:00:00.000000000',\n",
       "       '2014-09-17T00:00:00.000000000', '2014-09-27T00:00:00.000000000',\n",
       "       '2014-09-21T00:00:00.000000000', '2014-10-02T00:00:00.000000000',\n",
       "       '2014-10-01T00:00:00.000000000', 'NaT',\n",
       "       '2014-09-23T00:00:00.000000000', '2014-09-16T00:00:00.000000000'], dtype='datetime64[ns]')"
      ]
     },
     "execution_count": 4,
     "metadata": {},
     "output_type": "execute_result"
    }
   ],
   "source": [
    "bike_park['Date'].unique()"
   ]
  },
  {
   "cell_type": "code",
   "execution_count": 5,
   "metadata": {
    "collapsed": false
   },
   "outputs": [
    {
     "data": {
      "text/plain": [
       "[u'SeasonYear',\n",
       " u'ShiftType',\n",
       " u'Date',\n",
       " u'DayofWeek',\n",
       " u'LocationName',\n",
       " u'GreenwayDirection',\n",
       " u'LocationType',\n",
       " u'ShiftNotes',\n",
       " u'ShiftName',\n",
       " u'15MinuteTime',\n",
       " u'Cyc_MaleWithoutHelmet',\n",
       " u'Cyc_MaleWithHelmet',\n",
       " u'Cyc_FemaleWithoutHelmet',\n",
       " u'Cyc_FemaleWithHelmet',\n",
       " u'Cyc_Male_Esplanade',\n",
       " u'Cyc_Female_Esplanade',\n",
       " u'Bladers_Scoot_Skatebd',\n",
       " u'Joggers',\n",
       " u'Walkers',\n",
       " u'TotalCitibikes']"
      ]
     },
     "execution_count": 5,
     "metadata": {},
     "output_type": "execute_result"
    }
   ],
   "source": [
    "list(bike_park.columns) # Checking all the column names available in the Dataset"
   ]
  },
  {
   "cell_type": "code",
   "execution_count": 6,
   "metadata": {
    "collapsed": false,
    "scrolled": false
   },
   "outputs": [
    {
     "data": {
      "text/html": [
       "<div>\n",
       "<table border=\"1\" class=\"dataframe\">\n",
       "  <thead>\n",
       "    <tr style=\"text-align: right;\">\n",
       "      <th></th>\n",
       "      <th>LocationName</th>\n",
       "      <th>TotalCitibikes</th>\n",
       "    </tr>\n",
       "  </thead>\n",
       "  <tbody>\n",
       "    <tr>\n",
       "      <th>0</th>\n",
       "      <td>East River Esplanade at E Houston St.</td>\n",
       "      <td>2.0</td>\n",
       "    </tr>\n",
       "    <tr>\n",
       "      <th>1</th>\n",
       "      <td>East River Esplanade at E Houston St.</td>\n",
       "      <td>7.0</td>\n",
       "    </tr>\n",
       "    <tr>\n",
       "      <th>2</th>\n",
       "      <td>East River Esplanade at E Houston St.</td>\n",
       "      <td>3.0</td>\n",
       "    </tr>\n",
       "    <tr>\n",
       "      <th>3</th>\n",
       "      <td>East River Esplanade at E Houston St.</td>\n",
       "      <td>3.0</td>\n",
       "    </tr>\n",
       "    <tr>\n",
       "      <th>4</th>\n",
       "      <td>East River Esplanade at E Houston St.</td>\n",
       "      <td>2.0</td>\n",
       "    </tr>\n",
       "  </tbody>\n",
       "</table>\n",
       "</div>"
      ],
      "text/plain": [
       "                            LocationName  TotalCitibikes\n",
       "0  East River Esplanade at E Houston St.             2.0\n",
       "1  East River Esplanade at E Houston St.             7.0\n",
       "2  East River Esplanade at E Houston St.             3.0\n",
       "3  East River Esplanade at E Houston St.             3.0\n",
       "4  East River Esplanade at E Houston St.             2.0"
      ]
     },
     "execution_count": 6,
     "metadata": {},
     "output_type": "execute_result"
    }
   ],
   "source": [
    "bike_park = bike_park.drop(['SeasonYear',\n",
    "                            'ShiftType',\n",
    "                            'Date',\n",
    "                            'DayofWeek',\n",
    "                            'GreenwayDirection',\n",
    "                            'LocationType',\n",
    "                            'ShiftNotes',\n",
    "                            'ShiftName',\n",
    "                            '15MinuteTime',\n",
    "                            'Cyc_MaleWithoutHelmet',\n",
    "                            'Cyc_MaleWithHelmet',\n",
    "                            'Cyc_FemaleWithoutHelmet',\n",
    "                            'Cyc_FemaleWithHelmet',\n",
    "                            'Cyc_Male_Esplanade',\n",
    "                            'Cyc_Female_Esplanade',\n",
    "                            'Bladers_Scoot_Skatebd',\n",
    "                            'Joggers',\n",
    "                            'Walkers',], 1) \n",
    "\n",
    "bike_park.dropna(inplace = True)\n",
    "bike_park.head()"
   ]
  },
  {
   "cell_type": "code",
   "execution_count": 7,
   "metadata": {
    "collapsed": false,
    "scrolled": false
   },
   "outputs": [
    {
     "data": {
      "text/html": [
       "<div>\n",
       "<table border=\"1\" class=\"dataframe\">\n",
       "  <thead>\n",
       "    <tr style=\"text-align: right;\">\n",
       "      <th></th>\n",
       "      <th>TotalCitibikes</th>\n",
       "    </tr>\n",
       "    <tr>\n",
       "      <th>LocationName</th>\n",
       "      <th></th>\n",
       "    </tr>\n",
       "  </thead>\n",
       "  <tbody>\n",
       "    <tr>\n",
       "      <th>East River Esplanade at E Houston St.</th>\n",
       "      <td>203.0</td>\n",
       "    </tr>\n",
       "    <tr>\n",
       "      <th>East River Greenway at E Houston St.</th>\n",
       "      <td>218.0</td>\n",
       "    </tr>\n",
       "    <tr>\n",
       "      <th>Route 9A Esplanade at 11th St.</th>\n",
       "      <td>2.0</td>\n",
       "    </tr>\n",
       "    <tr>\n",
       "      <th>Route 9A Greenway at 11th St.</th>\n",
       "      <td>1466.0</td>\n",
       "    </tr>\n",
       "    <tr>\n",
       "      <th>Route 9A Greenway at 125th St.</th>\n",
       "      <td>2.0</td>\n",
       "    </tr>\n",
       "  </tbody>\n",
       "</table>\n",
       "</div>"
      ],
      "text/plain": [
       "                                       TotalCitibikes\n",
       "LocationName                                         \n",
       "East River Esplanade at E Houston St.           203.0\n",
       "East River Greenway at E Houston St.            218.0\n",
       "Route 9A Esplanade at 11th St.                    2.0\n",
       "Route 9A Greenway at 11th St.                  1466.0\n",
       "Route 9A Greenway at 125th St.                    2.0"
      ]
     },
     "execution_count": 7,
     "metadata": {},
     "output_type": "execute_result"
    }
   ],
   "source": [
    "#Grouping the cells for plotting\n",
    "\n",
    "bike_park2 = bike_park.groupby(['LocationName']).sum()\n",
    "bike_park2.head()"
   ]
  },
  {
   "cell_type": "code",
   "execution_count": 8,
   "metadata": {
    "collapsed": false
   },
   "outputs": [],
   "source": [
    "#Ignore Cell\n",
    "\n",
    "d = {'LocationName':['L1','L2','L3','L4','L5','L6'],'TotalCitibikes':[203.0,218.0,2.0,1466.0,2.0, 2]}\n",
    "sum_data = pd.DataFrame(d)"
   ]
  },
  {
   "cell_type": "code",
   "execution_count": 9,
   "metadata": {
    "collapsed": false
   },
   "outputs": [
    {
     "data": {
      "text/plain": [
       "[<matplotlib.text.Text at 0x7fef76ed5f50>,\n",
       " <matplotlib.text.Text at 0x7fef76ee1f10>,\n",
       " <matplotlib.text.Text at 0x7fef746d0650>,\n",
       " <matplotlib.text.Text at 0x7fef746d0d90>,\n",
       " <matplotlib.text.Text at 0x7fef746db510>,\n",
       " <matplotlib.text.Text at 0x7fef746dbc50>]"
      ]
     },
     "execution_count": 9,
     "metadata": {},
     "output_type": "execute_result"
    },
    {
     "data": {
      "image/png": "[encoded data removed]",
      "text/plain": [
       "<matplotlib.figure.Figure at 0x7fef76e4d890>"
      ]
     },
     "metadata": {},
     "output_type": "display_data"
    }
   ],
   "source": [
    "#Description: BAR Plot which shows the number of citibikes being parked at 6 different Off-street Locations.\n",
    "\n",
    "ax = bike_park2.plot(kind='bar',color='SteelBlue', alpha=1,title='Plot 1: Bikes in Off-street Locations')\n",
    "ax.set_xlabel(\"X: Locations\")\n",
    "ax.set_ylabel(\"Y: Total Citibikes\")\n",
    "ax.set_xticklabels(sum_data['LocationName'],rotation =0)"
   ]
  },
  {
   "cell_type": "markdown",
   "metadata": {},
   "source": [
    "Legend for the above Locations:\n",
    "\n",
    "L1 : East River Esplanade at E Houston St.\n",
    "\n",
    "L2 : East River Greenway at E Houston St.\n",
    "\n",
    "L3 : Route 9A Esplanade at 11th St.\n",
    "\n",
    "L4 : Route 9A Greenway at 11th St.\n",
    "\n",
    "L5 : Route 9A Greenway at 125th St.\n",
    "\n",
    "L6 : Route 9A Greenway at 80th St."
   ]
  }
 ],
 "metadata": {
  "kernelspec": {
   "display_name": "PUI2016_Python2",
   "language": "python",
   "name": "pui2016_python2"
  },
  "language_info": {
   "codemirror_mode": {
    "name": "ipython",
    "version": 2
   },
   "file_extension": ".py",
   "mimetype": "text/x-python",
   "name": "python",
   "nbconvert_exporter": "python",
   "pygments_lexer": "ipython2",
   "version": "2.7.12"
  }
 },
 "nbformat": 4,
 "nbformat_minor": 0
}
