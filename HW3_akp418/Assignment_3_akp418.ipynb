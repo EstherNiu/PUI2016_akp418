{
 "cells": [
  {
   "cell_type": "code",
   "execution_count": null,
   "metadata": {
    "collapsed": true
   },
   "outputs": [],
   "source": [
    "#Assignment_3 Solution: \n",
    "\n",
    "#Problem Statement: A new bus route is implemented. The MTA would want to know if it has improved commute time or \n",
    "#not ?\n",
    "\n",
    "#Question to be answered: Is the new bus route improving the commute time?"
   ]
  },
  {
   "cell_type": "code",
   "execution_count": null,
   "metadata": {
    "collapsed": true
   },
   "outputs": [],
   "source": [
    "#Null Hypothesis - H(0) : To be proven wrong\n",
    "\n",
    "#- The commute time is on average the same or longer than the previous bus route.\n",
    "#- T(new) >= T(old)\n",
    "#- Here we use the means\n",
    "\n",
    "#Alternate Hypothesis - H(a) : Will be proven right when H(0) is proven wrong\n",
    "\n",
    "#- The commute time is definitely shorter than the previous bus route.\n",
    "#- T(new) < T(old)\n",
    "#- Here we use the means\n",
    "\n",
    "#Z - Score is primarily how many Standard Deviations away from the mean\n",
    "\n",
    "#- Formula for the Z - Test:\n",
    "#- Z ~ [mean(pop) - mean(sample)) / (stdev / sqrt(N))]\n",
    "#- Here we set aplha -> (α = 0.05)\n",
    "#- T(old) ~ N(μ = 36,σ = 6)"
   ]
  },
  {
   "cell_type": "code",
   "execution_count": 1,
   "metadata": {
    "collapsed": true
   },
   "outputs": [],
   "source": [
    "import pandas as pd\n",
    "import os"
   ]
  },
  {
   "cell_type": "code",
   "execution_count": 2,
   "metadata": {
    "collapsed": false
   },
   "outputs": [
    {
     "name": "stdout",
     "output_type": "stream",
     "text": [
      "  % Total    % Received % Xferd  Average Speed   Time    Time     Time  Current\n",
      "                                 Dload  Upload   Total   Spent    Left  Speed\n",
      "107  1179  107  1179    0     0    214      0  0:00:05  0:00:05 --:--:--  2591\n"
     ]
    }
   ],
   "source": [
    "!curl -O https://raw.githubusercontent.com/fedhere/PUI2016_fb55/master/Lab3_fb55/times.txt"
   ]
  },
  {
   "cell_type": "code",
   "execution_count": 3,
   "metadata": {
    "collapsed": false
   },
   "outputs": [
    {
     "data": {
      "text/html": [
       "<div>\n",
       "<table border=\"1\" class=\"dataframe\">\n",
       "  <thead>\n",
       "    <tr style=\"text-align: right;\">\n",
       "      <th></th>\n",
       "      <th>0</th>\n",
       "    </tr>\n",
       "  </thead>\n",
       "  <tbody>\n",
       "    <tr>\n",
       "      <th>0</th>\n",
       "      <td>31.622239</td>\n",
       "    </tr>\n",
       "    <tr>\n",
       "      <th>1</th>\n",
       "      <td>32.821376</td>\n",
       "    </tr>\n",
       "    <tr>\n",
       "      <th>2</th>\n",
       "      <td>30.229101</td>\n",
       "    </tr>\n",
       "    <tr>\n",
       "      <th>3</th>\n",
       "      <td>31.413766</td>\n",
       "    </tr>\n",
       "    <tr>\n",
       "      <th>4</th>\n",
       "      <td>39.010550</td>\n",
       "    </tr>\n",
       "  </tbody>\n",
       "</table>\n",
       "</div>"
      ],
      "text/plain": [
       "           0\n",
       "0  31.622239\n",
       "1  32.821376\n",
       "2  30.229101\n",
       "3  31.413766\n",
       "4  39.010550"
      ]
     },
     "execution_count": 3,
     "metadata": {},
     "output_type": "execute_result"
    }
   ],
   "source": [
    "df = pd.read_csv('times.txt', header = None)\n",
    "df.head()"
   ]
  },
  {
   "cell_type": "code",
   "execution_count": 9,
   "metadata": {
    "collapsed": false
   },
   "outputs": [
    {
     "name": "stdout",
     "output_type": "stream",
     "text": [
      "0    34.466162\n",
      "dtype: float64\n",
      "0    7.13728\n",
      "dtype: float64\n",
      "0    100\n",
      "dtype: int64\n"
     ]
    }
   ],
   "source": [
    "print df.mean()\n",
    "print df.std()\n",
    "print df.count()"
   ]
  },
  {
   "cell_type": "code",
   "execution_count": 11,
   "metadata": {
    "collapsed": false
   },
   "outputs": [
    {
     "data": {
      "text/plain": [
       "pandas.core.series.Series"
      ]
     },
     "execution_count": 11,
     "metadata": {},
     "output_type": "execute_result"
    }
   ],
   "source": [
    "type(df.std())"
   ]
  },
  {
   "cell_type": "code",
   "execution_count": 14,
   "metadata": {
    "collapsed": false
   },
   "outputs": [
    {
     "data": {
      "text/plain": [
       "0    2.149052\n",
       "dtype: float64"
      ]
     },
     "execution_count": 14,
     "metadata": {},
     "output_type": "execute_result"
    }
   ],
   "source": [
    "pop_mean = 36\n",
    "sample_mean = df.mean()\n",
    "sample_stddev = df.std()\n",
    "\n",
    "Z_test = ((pop_mean - sample_mean)/(sample_stddev/(df.count()**0.5)))\n",
    "Z_test"
   ]
  },
  {
   "cell_type": "code",
   "execution_count": 15,
   "metadata": {
    "collapsed": true
   },
   "outputs": [],
   "source": [
    "#After finding out the z-value we can now prove:\n",
    "\n",
    "#- The diff between the Mean of the old and new routes\n",
    "#- The interpretation of Z-score according to the formula is on the left hand side of the curve (-ve)\n",
    "#- The formula is changed to the reverse would show us that the point would be on the right side (+ve)\n",
    "\n",
    "#The null hypothesis in this way is proven to be wrong - which implies that we have inadvertantly proven that the alternate hypothesis is true\n",
    "#The solution finally would prove that the Z-Score implies that the point lies 2.14-(σ)'s away from the mean(μ)"
   ]
  }
 ],
 "metadata": {
  "kernelspec": {
   "display_name": "PUI2016_Python2",
   "language": "python",
   "name": "pui2016_python2"
  },
  "language_info": {
   "codemirror_mode": {
    "name": "ipython",
    "version": 2
   },
   "file_extension": ".py",
   "mimetype": "text/x-python",
   "name": "python",
   "nbconvert_exporter": "python",
   "pygments_lexer": "ipython2",
   "version": "2.7.12"
  }
 },
 "nbformat": 4,
 "nbformat_minor": 0
}
