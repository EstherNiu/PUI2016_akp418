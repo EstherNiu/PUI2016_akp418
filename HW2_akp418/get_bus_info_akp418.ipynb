{
 "cells": [
  {
   "cell_type": "code",
   "execution_count": 82,
   "metadata": {
    "collapsed": false
   },
   "outputs": [],
   "source": [
    "import sys\n",
    "import pylab as pl\n",
    "import json\n",
    "import urllib as ulr\n",
    "import os\n",
    "import csv\n",
    "\n",
    "dev_key = sys.argv[1]\n",
    "bus_line = sys.argv[2]\n",
    "\n",
    "url = 'http://bustime.mta.info/api/siri/vehicle-monitoring.json?key=' + str(dev_key) + \\\n",
    "'&VehicleMonitoringDetailLevel=calls&LineRef=' + str(bus_line)\n",
    "\n",
    "response = ulr.urlopen(url)\n",
    "data = response.read().decode(\"utf-8\")\n",
    "data = json.loads(data)\n",
    "\n",
    "f = open(sys.argv[3], 'wb')\n",
    "writer = csv.writer(f, delimiter= ',')\n",
    "writer.writerow(['Latitude','Latitude', 'Stop Name', 'Stop Status'])\n",
    "\n",
    "count = 0\n",
    "\n",
    "data_srt = data['Siri']['ServiceDelivery']['VehicleMonitoringDelivery'][0]['VehicleActivity']\n",
    "\n",
    "csv_doc = []\n",
    "\n",
    "for i in data_srt:\n",
    "    count = count + 1\n",
    "    \n",
    "    latitude = str(i['MonitoredVehicleJourney']['VehicleLocation']['Latitude'])\n",
    "    longitude = str(i['MonitoredVehicleJourney']['VehicleLocation']['Longitude'])\n",
    "        \n",
    "    if (data_srt[0]['MonitoredVehicleJourney']['OnwardCalls'] == {}):\n",
    "            stop_name = 'NA'\n",
    "            bus_status = 'NA'\n",
    "    \n",
    "    else: \n",
    "        stop_name = str(i['MonitoredVehicleJourney']['OnwardCalls']['OnwardCall'][0]['StopPointName'])\n",
    "        bus_status = str(i['MonitoredVehicleJourney']['OnwardCalls']['OnwardCall'][0]['Extensions']['Distances']['PresentableDistance'])\n",
    "    \n",
    "    writer.writerow([latitude,longitude,stop_name,bus_status])\n"
   ]
  },
  {
   "cell_type": "code",
   "execution_count": null,
   "metadata": {
    "collapsed": true
   },
   "outputs": [],
   "source": []
  }
 ],
 "metadata": {
  "kernelspec": {
   "display_name": "PUI2016_Python2",
   "language": "python",
   "name": "pui2016_python2"
  },
  "language_info": {
   "codemirror_mode": {
    "name": "ipython",
    "version": 2
   },
   "file_extension": ".py",
   "mimetype": "text/x-python",
   "name": "python",
   "nbconvert_exporter": "python",
   "pygments_lexer": "ipython2",
   "version": "2.7.12"
  }
 },
 "nbformat": 4,
 "nbformat_minor": 0
}
