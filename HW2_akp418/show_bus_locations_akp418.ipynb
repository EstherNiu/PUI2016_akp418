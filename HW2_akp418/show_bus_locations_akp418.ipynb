{
 "cells": [
  {
   "cell_type": "code",
   "execution_count": 125,
   "metadata": {
    "collapsed": false,
    "scrolled": false
   },
   "outputs": [
    {
     "name": "stdout",
     "output_type": "stream",
     "text": [
      "Populating the interactive namespace from numpy and matplotlib\n",
      "Bus Line: B52\n",
      "No: of Buses: 0\n"
     ]
    }
   ],
   "source": [
    "import sys\n",
    "import pylab as pl\n",
    "import json\n",
    "import urllib as ulr\n",
    "import os\n",
    "\n",
    "dev_key = 'd8d68556-185c-4f43-baae-769b0cc954c6'\n",
    "bus_line = 'B52'\n",
    "url = 'http://bustime.mta.info/api/siri/vehicle-monitoring.json?key=' + dev_key + '&VehicleMonitoringDetailLevel=calls&LineRef=' + bus_line\n",
    "\n",
    "response = ulr.urlopen(url)\n",
    "data = response.read().decode(\"utf-8\")\n",
    "data = json.loads(data)\n",
    "\n",
    "data['Siri']['ServiceDelivery']['VehicleMonitoringDelivery'][0]['VehicleActivity']\n",
    "\n",
    "bus_count = 0\n",
    "count = 0\n",
    "\n",
    "print 'Bus Line: ' + str(bus_line)\n",
    "\n",
    "for i in data['Siri']['ServiceDelivery']['VehicleMonitoringDelivery'][0]['VehicleActivity']:\n",
    "    bus_count = bus_count + 1\n",
    "\n",
    "print \"No: of Buses: \" + str(bus_count)\n",
    "\n",
    "for i in data['Siri']['ServiceDelivery']['VehicleMonitoringDelivery'][0]['VehicleActivity']:\n",
    "    count = count + 1\n",
    "    print 'Bus '+ str(count) + ' is at ' + 'latitude ' + str(i['MonitoredVehicleJourney']['VehicleLocation']['Latitude']) + ' and' + ' longitude ' + str(i['MonitoredVehicleJourney']['VehicleLocation']['Latitude'])\n"
   ]
  },
  {
   "cell_type": "code",
   "execution_count": 94,
   "metadata": {
    "collapsed": false
   },
   "outputs": [
    {
     "ename": "SyntaxError",
     "evalue": "invalid syntax (<ipython-input-94-06712d0c2c15>, line 10)",
     "output_type": "error",
     "traceback": [
      "\u001b[0;36m  File \u001b[0;32m\"<ipython-input-94-06712d0c2c15>\"\u001b[0;36m, line \u001b[0;32m10\u001b[0m\n\u001b[0;31m    u'ServiceDelivery': {u'ResponseTimestamp': u'2016-09-17T22:33:27.077-04:00',\u001b[0m\n\u001b[0m                      ^\u001b[0m\n\u001b[0;31mSyntaxError\u001b[0m\u001b[0;31m:\u001b[0m invalid syntax\n"
     ]
    }
   ],
   "source": [
    "for i in data:\n",
    "    print i\n",
    "\n",
    "print data['Siri']['ServiceDelivery'].keys()\n",
    "\n",
    "print data['Siri']['ServiceDelivery']['VehicleMonitoringDelivery']\n",
    "\n",
    "\n",
    "\n",
    "u'ServiceDelivery': {u'ResponseTimestamp': u'2016-09-17T22:33:27.077-04:00',\n",
    "  u'SituationExchangeDelivery': [],\n",
    "  u'VehicleMonitoringDelivery': [{u'ResponseTimestamp': u'2016-09-17T22:33:27.077-04:00',\n",
    "    u'ValidUntil': u'2016-09-17T22:34:27.077-04:00',\n",
    "    u'VehicleActivity': [{u'MonitoredVehicleJourney': {u'Bearing': 6.6632295,\n",
    "       u'PublishedLineName': u'B52'}\n",
    "\n",
    "                          \n",
    "                          \n",
    "for i in [VehicleActivity]:\n",
    "    print i[MonitoredVehicleJourney][PublishedLineName]\n",
    "                          \n",
    "                        \n",
    "\n",
    "                          \n",
    "                          \n",
    "\n",
    "                          \n",
    "                          \n",
    "                          \n",
    "                          \n",
    "                          \n",
    "                          \n",
    "                          \n",
    "                          \n",
    "                          \n",
    "                          \n",
    "                          \n",
    "\n",
    "                          \n",
    "\n",
    "\n",
    "\n",
    "\n",
    "\n",
    "\n",
    "\n",
    "\n"
   ]
  },
  {
   "cell_type": "code",
   "execution_count": null,
   "metadata": {
    "collapsed": true
   },
   "outputs": [],
   "source": []
  }
 ],
 "metadata": {
  "kernelspec": {
   "display_name": "PUI2016_Python2",
   "language": "python",
   "name": "pui2016_python2"
  },
  "language_info": {
   "codemirror_mode": {
    "name": "ipython",
    "version": 2
   },
   "file_extension": ".py",
   "mimetype": "text/x-python",
   "name": "python",
   "nbconvert_exporter": "python",
   "pygments_lexer": "ipython2",
   "version": "2.7.12"
  }
 },
 "nbformat": 4,
 "nbformat_minor": 0
}
